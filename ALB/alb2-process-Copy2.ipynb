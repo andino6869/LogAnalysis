{
 "cells": [
  {
   "cell_type": "code",
   "execution_count": 24,
   "id": "10482fd4",
   "metadata": {},
   "outputs": [],
   "source": [
    "import pandas as pd\n",
    "import gzip \n",
    "import IPython.display\n",
    "import matplotlib.pyplot as plt\n",
    "import glob"
   ]
  },
  {
   "cell_type": "code",
   "execution_count": null,
   "id": "2de15cd5",
   "metadata": {},
   "outputs": [],
   "source": [
    "from IPython.display import display, HTML\n",
    "display(HTML('<style>.container {width: 100%} !i'))"
   ]
  },
  {
   "cell_type": "code",
   "execution_count": null,
   "id": "be576ffb",
   "metadata": {},
   "outputs": [],
   "source": [
    "columns = [\"date\", \"time\", \"status\", \"latency\", \"r_bytes\", \"method\", \"uri\"]"
   ]
  },
  {
   "cell_type": "code",
   "execution_count": null,
   "id": "256f485b",
   "metadata": {},
   "outputs": [],
   "source": [
    "columns_to_use = [\"date\",\"time\",\"status\"]\n",
    "for file in files:\n",
    "    df = pd.read_csv(file, compression='gzip', header=None, names=columns, skiprows=1, sep=',', quotechar='\"', engine='python', usecols=columns_to_use,\n",
    "         parse_dates={'datetime': ['date', 'time']}, dtype={'status': 'int16', 'latency': 'float32', 'r_bytes': 'int16'})\n",
    "    #df['datetime'] = pd.to_datetime(df['datetime'])\n",
    "    #df = df.set_index('datetime')\n",
    "    dfs.append(df)\n",
    "print(\"gzip load done ...\")\n",
    "df = pd.concat(dfs)\n",
    "print(\"came together\")"
   ]
  },
  {
   "cell_type": "code",
   "execution_count": 28,
   "id": "31863d10",
   "metadata": {},
   "outputs": [
    {
     "ename": "ValueError",
     "evalue": "Cannot mask with non-boolean array containing NA / NaN values",
     "output_type": "error",
     "traceback": [
      "\u001b[0;31m---------------------------------------------------------------------------\u001b[0m",
      "\u001b[0;31mValueError\u001b[0m                                Traceback (most recent call last)",
      "Cell \u001b[0;32mIn[28], line 2\u001b[0m\n\u001b[1;32m      1\u001b[0m mask \u001b[38;5;241m=\u001b[39m df[\u001b[38;5;124m'\u001b[39m\u001b[38;5;124muri\u001b[39m\u001b[38;5;124m'\u001b[39m]\u001b[38;5;241m.\u001b[39mstr\u001b[38;5;241m.\u001b[39mcontains(\u001b[38;5;124m'\u001b[39m\u001b[38;5;124mlogin\u001b[39m\u001b[38;5;124m'\u001b[39m)\n\u001b[0;32m----> 2\u001b[0m indices \u001b[38;5;241m=\u001b[39m \u001b[43mdf\u001b[49m\u001b[43m[\u001b[49m\u001b[43mmask\u001b[49m\u001b[43m]\u001b[49m\u001b[38;5;241m.\u001b[39mindex\n\u001b[1;32m      3\u001b[0m df\u001b[38;5;241m.\u001b[39mdrop(indices, inplace\u001b[38;5;241m=\u001b[39m\u001b[38;5;28;01mTrue\u001b[39;00m)\n",
      "File \u001b[0;32m~/anaconda3/lib/python3.9/site-packages/pandas/core/frame.py:3797\u001b[0m, in \u001b[0;36mDataFrame.__getitem__\u001b[0;34m(self, key)\u001b[0m\n\u001b[1;32m   3794\u001b[0m     \u001b[38;5;28;01mreturn\u001b[39;00m \u001b[38;5;28mself\u001b[39m\u001b[38;5;241m.\u001b[39mwhere(key)\n\u001b[1;32m   3796\u001b[0m \u001b[38;5;66;03m# Do we have a (boolean) 1d indexer?\u001b[39;00m\n\u001b[0;32m-> 3797\u001b[0m \u001b[38;5;28;01mif\u001b[39;00m \u001b[43mcom\u001b[49m\u001b[38;5;241;43m.\u001b[39;49m\u001b[43mis_bool_indexer\u001b[49m\u001b[43m(\u001b[49m\u001b[43mkey\u001b[49m\u001b[43m)\u001b[49m:\n\u001b[1;32m   3798\u001b[0m     \u001b[38;5;28;01mreturn\u001b[39;00m \u001b[38;5;28mself\u001b[39m\u001b[38;5;241m.\u001b[39m_getitem_bool_array(key)\n\u001b[1;32m   3800\u001b[0m \u001b[38;5;66;03m# We are left with two options: a single key, and a collection of keys,\u001b[39;00m\n\u001b[1;32m   3801\u001b[0m \u001b[38;5;66;03m# We interpret tuples as collections only for non-MultiIndex\u001b[39;00m\n",
      "File \u001b[0;32m~/anaconda3/lib/python3.9/site-packages/pandas/core/common.py:135\u001b[0m, in \u001b[0;36mis_bool_indexer\u001b[0;34m(key)\u001b[0m\n\u001b[1;32m    131\u001b[0m     na_msg \u001b[38;5;241m=\u001b[39m \u001b[38;5;124m\"\u001b[39m\u001b[38;5;124mCannot mask with non-boolean array containing NA / NaN values\u001b[39m\u001b[38;5;124m\"\u001b[39m\n\u001b[1;32m    132\u001b[0m     \u001b[38;5;28;01mif\u001b[39;00m lib\u001b[38;5;241m.\u001b[39minfer_dtype(key_array) \u001b[38;5;241m==\u001b[39m \u001b[38;5;124m\"\u001b[39m\u001b[38;5;124mboolean\u001b[39m\u001b[38;5;124m\"\u001b[39m \u001b[38;5;129;01mand\u001b[39;00m isna(key_array)\u001b[38;5;241m.\u001b[39many():\n\u001b[1;32m    133\u001b[0m         \u001b[38;5;66;03m# Don't raise on e.g. [\"A\", \"B\", np.nan], see\u001b[39;00m\n\u001b[1;32m    134\u001b[0m         \u001b[38;5;66;03m#  test_loc_getitem_list_of_labels_categoricalindex_with_na\u001b[39;00m\n\u001b[0;32m--> 135\u001b[0m         \u001b[38;5;28;01mraise\u001b[39;00m \u001b[38;5;167;01mValueError\u001b[39;00m(na_msg)\n\u001b[1;32m    136\u001b[0m     \u001b[38;5;28;01mreturn\u001b[39;00m \u001b[38;5;28;01mFalse\u001b[39;00m\n\u001b[1;32m    137\u001b[0m \u001b[38;5;28;01mreturn\u001b[39;00m \u001b[38;5;28;01mTrue\u001b[39;00m\n",
      "\u001b[0;31mValueError\u001b[0m: Cannot mask with non-boolean array containing NA / NaN values"
     ]
    }
   ],
   "source": [
    "mask = df['uri'].str.contains('login')\n",
    "indices = df[mask].index\n",
    "df.drop(indices, inplace=True)\n"
   ]
  },
  {
   "cell_type": "code",
   "execution_count": null,
   "id": "afc7356b",
   "metadata": {},
   "outputs": [],
   "source": [
    "pd.set_option('display.width', 1000)\n",
    "pd.set_option('max_colwidth', 100)\n",
    "pd.set_option('display.max_rows', 10)"
   ]
  },
  {
   "cell_type": "code",
   "execution_count": null,
   "id": "7a4b89e3",
   "metadata": {
    "scrolled": true
   },
   "outputs": [],
   "source": [
    "#df.head(10)"
   ]
  },
  {
   "cell_type": "code",
   "execution_count": null,
   "id": "a8b7f907",
   "metadata": {},
   "outputs": [],
   "source": [
    "pd.get_option(\"display.max_columns\")\n",
    "pd.get_option(\"display.max_rows\")"
   ]
  },
  {
   "cell_type": "code",
   "execution_count": null,
   "id": "5c295c7b",
   "metadata": {},
   "outputs": [],
   "source": [
    "'''\n",
    "subpath = df['uri'].str.split('/').str[:2].str.join('/')\n",
    "print(subpath)\n",
    "df['subpath'] = subpath\n",
    "'''"
   ]
  },
  {
   "cell_type": "code",
   "execution_count": null,
   "id": "aba4faaa",
   "metadata": {},
   "outputs": [],
   "source": [
    "# max_r_bytes = df['r_bytes'].max()\n",
    "# print(\"Max r_bytes:\", max_r_bytes)"
   ]
  },
  {
   "cell_type": "code",
   "execution_count": null,
   "id": "5e7e8072",
   "metadata": {},
   "outputs": [],
   "source": [
    "# latency_stats = latency_stats.apply(lambda x: format(x, '.2f'))\n",
    "# print(latency_stats)\n",
    "\n",
    "latency_stats = df['latency'].describe()\n",
    "print(latency_stats)"
   ]
  },
  {
   "cell_type": "code",
   "execution_count": null,
   "id": "f3ad8191",
   "metadata": {},
   "outputs": [],
   "source": [
    "latency_median = df['latency'].median()\n",
    "latency_95th_percentile = df['latency'].quantile(0.95)\n",
    "print(latency_95th_percentile)"
   ]
  },
  {
   "cell_type": "code",
   "execution_count": null,
   "id": "d2e9f927",
   "metadata": {},
   "outputs": [],
   "source": [
    "subpath_avg_latency = df.groupby('subpath')['latency'].mean()\n",
    "sorted_subpaths = subpath_avg_latency.sort_values(ascending=False)\n",
    "top_5_subpaths = sorted_subpaths.head(5)\n",
    "print(top_5_subpaths)"
   ]
  },
  {
   "cell_type": "code",
   "execution_count": null,
   "id": "5eaabc4c",
   "metadata": {},
   "outputs": [],
   "source": [
    "highest_latencies = df.nlargest(5, 'latency')\n",
    "print(highest_latencies)\n"
   ]
  },
  {
   "cell_type": "code",
   "execution_count": null,
   "id": "c5a021fc",
   "metadata": {},
   "outputs": [],
   "source": [
    "status_counts = df.groupby('status').size().to_frame('count')\n",
    "status_counts['percentage'] = status_counts['count'] / df.shape[0] * 100\n",
    "status_counts.reset_index(inplace=True)\n",
    "print(status_counts[status_counts['status'].isin([502, 500, 499])])\n"
   ]
  },
  {
   "cell_type": "code",
   "execution_count": null,
   "id": "a903bf99",
   "metadata": {},
   "outputs": [],
   "source": [
    "df['datetime'] = pd.to_datetime(df['date'] + ' ' + df['time'], format='%Y-%m-%d %H:%M:%S')\n",
    "df.set_index('datetime', inplace=True)\n",
    "df.sort_index(inplace=True)"
   ]
  },
  {
   "cell_type": "code",
   "execution_count": null,
   "id": "14e73246",
   "metadata": {},
   "outputs": [],
   "source": [
    "import matplotlib.pyplot as plt\n",
    "\n",
    "# Filter out rows where status is 502 and resample to get counts per hour\n",
    "error_502_counts = df[df['status'] == 502].resample('H').size()\n",
    "\n",
    "# Filter out rows where status is 500 and resample to get counts per hour\n",
    "error_500_counts = df[df['status'] == 500].resample('H').size()\n",
    "\n",
    "# Filter out rows where status is 499 and resample to get counts per hour\n",
    "error_499_counts = df[df['status'] == 499].resample('H').size()\n",
    "\n",
    "error_502_counts = error_502_counts.fillna(0)\n",
    "error_500_counts = error_500_counts.fillna(0)\n",
    "error_499_counts = error_499_counts.fillna(0)\n",
    "\n",
    "# Plot the time series of error counts\n",
    "error_502_counts.plot(label='502', legend=True)\n",
    "error_500_counts.plot(label='500', legend=True)\n",
    "\n",
    "# Check if there are any '499' errors before attempting to plot\n",
    "if not error_499_counts.empty:\n",
    "    error_499_counts.plot(label='499', legend=True)\n",
    "\n",
    "plt.title('Time Series of Hourly Error Counts')\n",
    "plt.xlabel('Date and Hour')\n",
    "plt.ylabel('Count')\n",
    "plt.show()\n"
   ]
  },
  {
   "cell_type": "code",
   "execution_count": null,
   "id": "03aabbc8",
   "metadata": {},
   "outputs": [],
   "source": []
  },
  {
   "cell_type": "code",
   "execution_count": null,
   "id": "74f77824",
   "metadata": {},
   "outputs": [],
   "source": []
  }
 ],
 "metadata": {
  "kernelspec": {
   "display_name": "Python 3 (ipykernel)",
   "language": "python",
   "name": "python3"
  },
  "language_info": {
   "codemirror_mode": {
    "name": "ipython",
    "version": 3
   },
   "file_extension": ".py",
   "mimetype": "text/x-python",
   "name": "python",
   "nbconvert_exporter": "python",
   "pygments_lexer": "ipython3",
   "version": "3.9.16"
  }
 },
 "nbformat": 4,
 "nbformat_minor": 5
}
