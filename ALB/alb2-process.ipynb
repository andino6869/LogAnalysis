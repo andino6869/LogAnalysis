{
 "cells": [
  {
   "cell_type": "code",
   "execution_count": 274,
   "id": "10482fd4",
   "metadata": {},
   "outputs": [],
   "source": [
    "import pandas as pd\n",
    "import gzip \n",
    "import IPython.display\n",
    "import matplotlib.pyplot as plt"
   ]
  },
  {
   "cell_type": "code",
   "execution_count": 275,
   "id": "2de15cd5",
   "metadata": {},
   "outputs": [
    {
     "data": {
      "text/html": [
       "<style>.container {width: 100%} !i"
      ],
      "text/plain": [
       "<IPython.core.display.HTML object>"
      ]
     },
     "metadata": {},
     "output_type": "display_data"
    }
   ],
   "source": [
    "from IPython.display import display, HTML\n",
    "display(HTML('<style>.container {width: 100%} !i'))"
   ]
  },
  {
   "cell_type": "code",
   "execution_count": 276,
   "id": "be576ffb",
   "metadata": {},
   "outputs": [],
   "source": [
    "# Define the column headers for the ALB access logs DataFrame\n",
    "columns = [\n",
    "    \"date\",                                    # 2023-03-04\n",
    "    \"time\",                                    # 00:40:00               \n",
    "    \"status\",                                  # string(int16)         200\n",
    "    \"latency\",                                 # float32 (?)         0.110\n",
    "    \"r_bytes\",                                 # int16                 702\n",
    "    \"method\",                                  # POST\n",
    "    \"uri\"                                   # string (?)         service/Electricity HTTP/1.1\n",
    "]"
   ]
  },
  {
   "cell_type": "code",
   "execution_count": 277,
   "id": "4bb14c29",
   "metadata": {},
   "outputs": [],
   "source": [
    "#FILE = '/BigData/ELB/output/2018-11-11-output.csv.gz'\n",
    "FILE = '/BigData/ELB/output/2023-01-02-output.csv.gz'\n",
    "with gzip.open(FILE, 'rt') as file:\n",
    "      df = pd.read_csv(FILE, compression='gzip', header=None, names=columns, sep=',', quotechar='\"', skiprows=1, engine='python', encoding= \"UTF-8\",\n",
    "                 dtype={\n",
    "                    'date': 'string',\n",
    "                    'time': 'string',\n",
    "                    'status': 'int16',\n",
    "                    'latency': 'float32',\n",
    "                    'r_bytes': 'int32',\n",
    "                    'method': 'string',\n",
    "                    'uri': 'string',\n",
    "                 })"
   ]
  },
  {
   "cell_type": "code",
   "execution_count": 278,
   "id": "31863d10",
   "metadata": {},
   "outputs": [],
   "source": [
    "mask = df['uri'].str.contains('login')\n",
    "indices = df[mask].index\n",
    "df.drop(indices, inplace=True)\n"
   ]
  },
  {
   "cell_type": "code",
   "execution_count": 279,
   "id": "afc7356b",
   "metadata": {},
   "outputs": [],
   "source": [
    "pd.set_option('display.width', 1000)\n",
    "pd.set_option('max_colwidth', 100)\n",
    "pd.set_option('display.max_rows', 10)"
   ]
  },
  {
   "cell_type": "code",
   "execution_count": 280,
   "id": "7a4b89e3",
   "metadata": {
    "scrolled": true
   },
   "outputs": [
    {
     "data": {
      "text/html": [
       "<div>\n",
       "<style scoped>\n",
       "    .dataframe tbody tr th:only-of-type {\n",
       "        vertical-align: middle;\n",
       "    }\n",
       "\n",
       "    .dataframe tbody tr th {\n",
       "        vertical-align: top;\n",
       "    }\n",
       "\n",
       "    .dataframe thead th {\n",
       "        text-align: right;\n",
       "    }\n",
       "</style>\n",
       "<table border=\"1\" class=\"dataframe\">\n",
       "  <thead>\n",
       "    <tr style=\"text-align: right;\">\n",
       "      <th></th>\n",
       "      <th>date</th>\n",
       "      <th>time</th>\n",
       "      <th>status</th>\n",
       "      <th>latency</th>\n",
       "      <th>r_bytes</th>\n",
       "      <th>method</th>\n",
       "      <th>uri</th>\n",
       "    </tr>\n",
       "  </thead>\n",
       "  <tbody>\n",
       "    <tr>\n",
       "      <th>0</th>\n",
       "      <td>2023-01-02</td>\n",
       "      <td>21:35:00</td>\n",
       "      <td>502</td>\n",
       "      <td>-1.0</td>\n",
       "      <td>585</td>\n",
       "      <td>GET</td>\n",
       "      <td>rest:customer/8a04223b7a5ae6f5f85d9a60c675d0f1/getInvoicesByContractId?contractId=70101496042&amp;li...</td>\n",
       "    </tr>\n",
       "    <tr>\n",
       "      <th>1</th>\n",
       "      <td>2023-01-02</td>\n",
       "      <td>21:35:00</td>\n",
       "      <td>502</td>\n",
       "      <td>-1.0</td>\n",
       "      <td>549</td>\n",
       "      <td>GET</td>\n",
       "      <td>rest:customer/8a04223b7a5ae6f5f85d9a60c675d0f1/getContractById?id=1810900845</td>\n",
       "    </tr>\n",
       "    <tr>\n",
       "      <th>2</th>\n",
       "      <td>2023-01-02</td>\n",
       "      <td>21:35:01</td>\n",
       "      <td>502</td>\n",
       "      <td>-1.0</td>\n",
       "      <td>592</td>\n",
       "      <td>GET</td>\n",
       "      <td>rest:customer/22c702205e9651727d1e4d5bb111b1cd/getOrders?limit=500&amp;offset=0</td>\n",
       "    </tr>\n",
       "    <tr>\n",
       "      <th>3</th>\n",
       "      <td>2023-01-02</td>\n",
       "      <td>21:35:01</td>\n",
       "      <td>502</td>\n",
       "      <td>-1.0</td>\n",
       "      <td>551</td>\n",
       "      <td>GET</td>\n",
       "      <td>rest:customer/22c702205e9651727d1e4d5bb111b1cd/getContracts?limit=500&amp;offset=0</td>\n",
       "    </tr>\n",
       "    <tr>\n",
       "      <th>4</th>\n",
       "      <td>2023-01-02</td>\n",
       "      <td>21:35:01</td>\n",
       "      <td>502</td>\n",
       "      <td>-1.0</td>\n",
       "      <td>550</td>\n",
       "      <td>GET</td>\n",
       "      <td>rest:customer/8a04223b7a5ae6f5f85d9a60c675d0f1/getContractById?id=70101496042</td>\n",
       "    </tr>\n",
       "    <tr>\n",
       "      <th>5</th>\n",
       "      <td>2023-01-02</td>\n",
       "      <td>21:35:00</td>\n",
       "      <td>502</td>\n",
       "      <td>-1.0</td>\n",
       "      <td>538</td>\n",
       "      <td>GET</td>\n",
       "      <td>rest:customer/47735a176db95df4450342dd4ad347f6/getCustomerDetails</td>\n",
       "    </tr>\n",
       "    <tr>\n",
       "      <th>6</th>\n",
       "      <td>2023-01-02</td>\n",
       "      <td>21:35:00</td>\n",
       "      <td>502</td>\n",
       "      <td>-1.0</td>\n",
       "      <td>538</td>\n",
       "      <td>GET</td>\n",
       "      <td>rest:customer/47735a176db95df4450342dd4ad347f6/getCustomerDetails</td>\n",
       "    </tr>\n",
       "    <tr>\n",
       "      <th>7</th>\n",
       "      <td>2023-01-02</td>\n",
       "      <td>21:35:00</td>\n",
       "      <td>502</td>\n",
       "      <td>-1.0</td>\n",
       "      <td>551</td>\n",
       "      <td>GET</td>\n",
       "      <td>rest:customer/8a04223b7a5ae6f5f85d9a60c675d0f1/getContracts?limit=500&amp;offset=0</td>\n",
       "    </tr>\n",
       "    <tr>\n",
       "      <th>8</th>\n",
       "      <td>2023-01-02</td>\n",
       "      <td>21:35:00</td>\n",
       "      <td>502</td>\n",
       "      <td>-1.0</td>\n",
       "      <td>538</td>\n",
       "      <td>GET</td>\n",
       "      <td>rest:customer/47735a176db95df4450342dd4ad347f6/getCustomerDetails</td>\n",
       "    </tr>\n",
       "    <tr>\n",
       "      <th>9</th>\n",
       "      <td>2023-01-02</td>\n",
       "      <td>21:35:01</td>\n",
       "      <td>502</td>\n",
       "      <td>-1.0</td>\n",
       "      <td>549</td>\n",
       "      <td>GET</td>\n",
       "      <td>rest:customer/8a04223b7a5ae6f5f85d9a60c675d0f1/getContractById?id=1803396597</td>\n",
       "    </tr>\n",
       "  </tbody>\n",
       "</table>\n",
       "</div>"
      ],
      "text/plain": [
       "         date      time  status  latency  r_bytes method                                                                                                  uri\n",
       "0  2023-01-02  21:35:00     502     -1.0      585    GET  rest:customer/8a04223b7a5ae6f5f85d9a60c675d0f1/getInvoicesByContractId?contractId=70101496042&li...\n",
       "1  2023-01-02  21:35:00     502     -1.0      549    GET                         rest:customer/8a04223b7a5ae6f5f85d9a60c675d0f1/getContractById?id=1810900845\n",
       "2  2023-01-02  21:35:01     502     -1.0      592    GET                          rest:customer/22c702205e9651727d1e4d5bb111b1cd/getOrders?limit=500&offset=0\n",
       "3  2023-01-02  21:35:01     502     -1.0      551    GET                       rest:customer/22c702205e9651727d1e4d5bb111b1cd/getContracts?limit=500&offset=0\n",
       "4  2023-01-02  21:35:01     502     -1.0      550    GET                        rest:customer/8a04223b7a5ae6f5f85d9a60c675d0f1/getContractById?id=70101496042\n",
       "5  2023-01-02  21:35:00     502     -1.0      538    GET                                    rest:customer/47735a176db95df4450342dd4ad347f6/getCustomerDetails\n",
       "6  2023-01-02  21:35:00     502     -1.0      538    GET                                    rest:customer/47735a176db95df4450342dd4ad347f6/getCustomerDetails\n",
       "7  2023-01-02  21:35:00     502     -1.0      551    GET                       rest:customer/8a04223b7a5ae6f5f85d9a60c675d0f1/getContracts?limit=500&offset=0\n",
       "8  2023-01-02  21:35:00     502     -1.0      538    GET                                    rest:customer/47735a176db95df4450342dd4ad347f6/getCustomerDetails\n",
       "9  2023-01-02  21:35:01     502     -1.0      549    GET                         rest:customer/8a04223b7a5ae6f5f85d9a60c675d0f1/getContractById?id=1803396597"
      ]
     },
     "execution_count": 280,
     "metadata": {},
     "output_type": "execute_result"
    }
   ],
   "source": [
    "df.head(10)"
   ]
  },
  {
   "cell_type": "code",
   "execution_count": 281,
   "id": "a8b7f907",
   "metadata": {},
   "outputs": [
    {
     "data": {
      "text/plain": [
       "10"
      ]
     },
     "execution_count": 281,
     "metadata": {},
     "output_type": "execute_result"
    }
   ],
   "source": [
    "pd.get_option(\"display.max_columns\")\n",
    "pd.get_option(\"display.max_rows\")"
   ]
  },
  {
   "cell_type": "code",
   "execution_count": 282,
   "id": "5c295c7b",
   "metadata": {},
   "outputs": [
    {
     "name": "stdout",
     "output_type": "stream",
     "text": [
      "0          rest:customer/8a04223b7a5ae6f5f85d9a60c675d0f1\n",
      "1          rest:customer/8a04223b7a5ae6f5f85d9a60c675d0f1\n",
      "2          rest:customer/22c702205e9651727d1e4d5bb111b1cd\n",
      "3          rest:customer/22c702205e9651727d1e4d5bb111b1cd\n",
      "4          rest:customer/8a04223b7a5ae6f5f85d9a60c675d0f1\n",
      "                                ...                      \n",
      "7496641      rest:client/b492a8e98e14596ae82f9ef43f3803c5\n",
      "7496642      rest:client/a88afc059eba6bf3dfaa73b714c6e113\n",
      "7496643      rest:client/a88afc059eba6bf3dfaa73b714c6e113\n",
      "7496644      rest:client/b492a8e98e14596ae82f9ef43f3803c5\n",
      "7496645      rest:client/b492a8e98e14596ae82f9ef43f3803c5\n",
      "Name: uri, Length: 7459746, dtype: object\n"
     ]
    }
   ],
   "source": [
    "subpath = df['uri'].str.split('/').str[:2].str.join('/')\n",
    "print(subpath)\n",
    "#df = df.reindex(columns=['timestamp', 'latency', 'status', 'r_bytes', 's_bytes', 'subpath', 'method', 'url', 'protocol', 'r_url', 'code'])\n",
    "df['subpath'] = subpath"
   ]
  },
  {
   "cell_type": "code",
   "execution_count": 283,
   "id": "aba4faaa",
   "metadata": {},
   "outputs": [
    {
     "name": "stdout",
     "output_type": "stream",
     "text": [
      "Max r_bytes: 35564764\n"
     ]
    }
   ],
   "source": [
    "max_r_bytes = df['r_bytes'].max()\n",
    "print(\"Max r_bytes:\", max_r_bytes)"
   ]
  },
  {
   "cell_type": "code",
   "execution_count": 285,
   "id": "5e7e8072",
   "metadata": {},
   "outputs": [
    {
     "name": "stdout",
     "output_type": "stream",
     "text": [
      "count    7.459746e+06\n",
      "mean     4.220347e-01\n",
      "std      1.199237e+00\n",
      "min     -1.000000e+00\n",
      "25%      1.950000e-01\n",
      "50%      2.290000e-01\n",
      "75%      3.350000e-01\n",
      "max      2.669250e+02\n",
      "Name: latency, dtype: float64\n"
     ]
    }
   ],
   "source": [
    "# latency_stats = latency_stats.apply(lambda x: format(x, '.2f'))\n",
    "# print(latency_stats)\n",
    "\n",
    "latency_stats = df['latency'].describe()\n",
    "print(latency_stats)"
   ]
  },
  {
   "cell_type": "code",
   "execution_count": 286,
   "id": "f3ad8191",
   "metadata": {},
   "outputs": [
    {
     "name": "stdout",
     "output_type": "stream",
     "text": [
      "1.1859999895095825\n"
     ]
    }
   ],
   "source": [
    "latency_median = df['latency'].median()\n",
    "latency_95th_percentile = df['latency'].quantile(0.95)\n",
    "print(latency_95th_percentile)"
   ]
  },
  {
   "cell_type": "code",
   "execution_count": 287,
   "id": "d2e9f927",
   "metadata": {},
   "outputs": [
    {
     "name": "stdout",
     "output_type": "stream",
     "text": [
      "subpath\n",
      "session/is-alive?_=1672656201456    50.062000\n",
      "session/is-alive?_=1672668192099    50.057999\n",
      "session/is-alive?_=1672667539966    50.055000\n",
      "session/is-alive?_=1672640613793    50.054001\n",
      "session/is-alive?_=1672644253741    48.858002\n",
      "Name: latency, dtype: float32\n"
     ]
    }
   ],
   "source": [
    "subpath_avg_latency = df.groupby('subpath')['latency'].mean()\n",
    "sorted_subpaths = subpath_avg_latency.sort_values(ascending=False)\n",
    "top_5_subpaths = sorted_subpaths.head(5)\n",
    "print(top_5_subpaths)"
   ]
  },
  {
   "cell_type": "code",
   "execution_count": 288,
   "id": "5eaabc4c",
   "metadata": {},
   "outputs": [
    {
     "name": "stdout",
     "output_type": "stream",
     "text": [
      "               date      time  status     latency  r_bytes method                                                 uri                                 subpath\n",
      "6930676  2023-01-02  06:44:08     200  266.924988      351   POST                                  edi:manage/dynamic                      edi:manage/dynamic\n",
      "4624440  2023-01-02  06:44:07     200  252.195007     2458   POST                                  edi:manage/dynamic                      edi:manage/dynamic\n",
      "7021832  2023-01-02  07:14:25     200  247.654999     2374   POST                                     grid/data/order                               grid/data\n",
      "823140   2023-01-02  09:50:52     302  192.669998     1889   POST  customers:contract:relocation/relocate/70100474202  customers:contract:relocation/relocate\n",
      "1062126  2023-01-02  14:24:32     200  190.425995      141   POST                                  grid/data/contract                               grid/data\n"
     ]
    }
   ],
   "source": [
    "highest_latencies = df.nlargest(5, 'latency')\n",
    "print(highest_latencies)\n"
   ]
  },
  {
   "cell_type": "code",
   "execution_count": 302,
   "id": "c5a021fc",
   "metadata": {},
   "outputs": [
    {
     "name": "stdout",
     "output_type": "stream",
     "text": [
      "   status  count  percentage\n",
      "8     500   8104    0.108636\n",
      "9     502   6174    0.082764\n"
     ]
    }
   ],
   "source": [
    "status_counts = df.groupby('status').size().to_frame('count')\n",
    "status_counts['percentage'] = status_counts['count'] / df.shape[0] * 100\n",
    "status_counts.reset_index(inplace=True)\n",
    "print(status_counts[status_counts['status'].isin([502, 500, 499])])\n"
   ]
  },
  {
   "cell_type": "code",
   "execution_count": 303,
   "id": "a903bf99",
   "metadata": {},
   "outputs": [],
   "source": [
    "df['datetime'] = pd.to_datetime(df['date'] + ' ' + df['time'], format='%Y-%m-%d %H:%M:%S')\n",
    "df.set_index('datetime', inplace=True)\n",
    "df.sort_index(inplace=True)"
   ]
  },
  {
   "cell_type": "code",
   "execution_count": 304,
   "id": "14e73246",
   "metadata": {},
   "outputs": [
    {
     "data": {
      "image/png": "[encoded data removed]",
      "text/plain": [
       "<Figure size 640x480 with 1 Axes>"
      ]
     },
     "metadata": {},
     "output_type": "display_data"
    }
   ],
   "source": [
    "import matplotlib.pyplot as plt\n",
    "\n",
    "# Filter out rows where status is 502 and resample to get counts per hour\n",
    "error_502_counts = df[df['status'] == 502].resample('H').size()\n",
    "\n",
    "# Filter out rows where status is 500 and resample to get counts per hour\n",
    "error_500_counts = df[df['status'] == 500].resample('H').size()\n",
    "\n",
    "# Filter out rows where status is 499 and resample to get counts per hour\n",
    "error_499_counts = df[df['status'] == 499].resample('H').size()\n",
    "\n",
    "# Fill missing hours with zeros\n",
    "error_502_counts = error_502_counts.fillna(0)\n",
    "error_500_counts = error_500_counts.fillna(0)\n",
    "error_499_counts = error_499_counts.fillna(0)\n",
    "\n",
    "# Plot the time series of error counts\n",
    "error_502_counts.plot(label='502', legend=True)\n",
    "error_500_counts.plot(label='500', legend=True)\n",
    "\n",
    "# Check if there are any '499' errors before attempting to plot\n",
    "if not error_499_counts.empty:\n",
    "    error_499_counts.plot(label='499', legend=True)\n",
    "\n",
    "plt.title('Time Series of Hourly Error Counts')\n",
    "plt.xlabel('Date and Hour')\n",
    "plt.ylabel('Count')\n",
    "plt.show()\n"
   ]
  },
  {
   "cell_type": "code",
   "execution_count": null,
   "id": "03aabbc8",
   "metadata": {},
   "outputs": [],
   "source": []
  },
  {
   "cell_type": "code",
   "execution_count": null,
   "id": "74f77824",
   "metadata": {},
   "outputs": [],
   "source": []
  }
 ],
 "metadata": {
  "kernelspec": {
   "display_name": "Python 3 (ipykernel)",
   "language": "python",
   "name": "python3"
  },
  "language_info": {
   "codemirror_mode": {
    "name": "ipython",
    "version": 3
   },
   "file_extension": ".py",
   "mimetype": "text/x-python",
   "name": "python",
   "nbconvert_exporter": "python",
   "pygments_lexer": "ipython3",
   "version": "3.9.16"
  }
 },
 "nbformat": 4,
 "nbformat_minor": 5
}
