{
 "cells": [
  {
   "cell_type": "code",
   "execution_count": 4,
   "id": "10482fd4",
   "metadata": {},
   "outputs": [],
   "source": [
    "import pandas as pd\n",
    "import gzip \n",
    "import IPython.display\n",
    "#from tabulate import tabulate"
   ]
  },
  {
   "cell_type": "code",
   "execution_count": 5,
   "id": "2de15cd5",
   "metadata": {},
   "outputs": [
    {
     "data": {
      "text/html": [
       "<style>.container {width: 100%} !i"
      ],
      "text/plain": [
       "<IPython.core.display.HTML object>"
      ]
     },
     "metadata": {},
     "output_type": "display_data"
    }
   ],
   "source": [
    "from IPython.display import display, HTML\n",
    "display(HTML('<style>.container {width: 100%} !i'))"
   ]
  },
  {
   "cell_type": "code",
   "execution_count": 6,
   "id": "be576ffb",
   "metadata": {},
   "outputs": [],
   "source": [
    "# Define the column headers for the ALB access logs DataFrame\n",
    "columns = [\n",
    "    \"proto\",                                              # skip\n",
    "    \"timestamp\",                    #          2023-03-04T00:40:00.673223Z               \n",
    "    \"elb\",                                                # skip\n",
    "    \"client:port\",                                        # 18.197.198.192:5310\n",
    "    \"target:port\",                                        # skip\n",
    "    \"request_processing_time\",                            # skip\n",
    "    \"latency\",                      # float32 (?)         0.110\n",
    "    \"response_processing_time\",                           # skip\n",
    "    \"status\",                       # string(int16)         200\n",
    "    \"target_status\",                                      # 200\n",
    "    \"r_bytes\",                      # int16                  702\n",
    "    \"s_bytes\",                      # int16                  537\n",
    "    \"request\",                      # string (?)         POST https://pc-energy.encore-prod.enbw.cloud:443/service/Electricity HTTP/1.1\n",
    "    \"user_agent\",                                         # skip\n",
    "    \"ssl_cipher\",                                         # skip\n",
    "    \"ssl_protocol\",                                       # skip\n",
    "    \"target_group_arn\",                                   # skip\n",
    "    \"trace_id\",                                           # skip\n",
    "    \"domain_name\",                                        # skip\n",
    "    \"chosen_cert_arn\",                                    # skip\n",
    "    \"matched_rule_priority\",                              # skip\n",
    "    \"request_creation_time\",        \n",
    "    \"actions_executed\",                                   # skip\n",
    "    \"r_url\",                        # string                 - \n",
    "    \"error_reason\",                                       # skip\n",
    "    \"target_ip\",                                          # skip\n",
    "    \"target_status_description\",                          # skip\n",
    "    \"code\",                         # float64 (?)         NaN   jedenfalls am Anfang  \n",
    "    \"target_response_duration\",                           # skip\n",
    "    \"target_health_description\"                           # skip\n",
    "]"
   ]
  },
  {
   "cell_type": "code",
   "execution_count": 7,
   "id": "4bb14c29",
   "metadata": {},
   "outputs": [],
   "source": [
    "FILE = '/BigData/ELB/2018/12/11/647933830095_elasticloadbalancing_eu-central-1_app.awseb-AWSEB-18IHG6R3W1A7K.ac573d33cdf8d1a2_20181211T2355Z_35.157.194.235_tbc04iw9.log.gz'\n",
    "with gzip.open(FILE, 'rt') as file:\n",
    "    df = pd.read_csv(FILE,  sep=' ', names=columns, quotechar='\"', engine='python')"
   ]
  },
  {
   "cell_type": "code",
   "execution_count": 8,
   "id": "ef8ec531",
   "metadata": {},
   "outputs": [],
   "source": [
    "df.drop([\"proto\", \"elb\", \"target_status\", \"client:port\", \"target:port\", \"request_processing_time\", \"response_processing_time\", \"user_agent\", \"ssl_cipher\", \"ssl_protocol\", \"target_group_arn\"], axis=1, inplace=True)"
   ]
  },
  {
   "cell_type": "code",
   "execution_count": 9,
   "id": "26fa4ca7",
   "metadata": {},
   "outputs": [],
   "source": [
    "df.drop([\"trace_id\",  \"domain_name\", \"chosen_cert_arn\",  \"matched_rule_priority\", \"request_creation_time\", \"actions_executed\"], axis=1, inplace=True)"
   ]
  },
  {
   "cell_type": "code",
   "execution_count": 10,
   "id": "0d548ff8",
   "metadata": {},
   "outputs": [],
   "source": [
    "df.drop([\"error_reason\", \"target_ip\", \"target_status_description\",\"target_response_duration\", \"target_health_description\"], axis=1, inplace=True)"
   ]
  },
  {
   "cell_type": "code",
   "execution_count": 11,
   "id": "afc7356b",
   "metadata": {},
   "outputs": [],
   "source": [
    "pd.set_option('display.width', 1000)\n",
    "pd.set_option('max_colwidth', 100)"
   ]
  },
  {
   "cell_type": "code",
   "execution_count": 12,
   "id": "091c3e7b",
   "metadata": {},
   "outputs": [],
   "source": [
    "pd.set_option('display.max_rows', 10)"
   ]
  },
  {
   "cell_type": "code",
   "execution_count": 13,
   "id": "7a4b89e3",
   "metadata": {
    "scrolled": true
   },
   "outputs": [
    {
     "data": {
      "text/html": [
       "<div>\n",
       "<style scoped>\n",
       "    .dataframe tbody tr th:only-of-type {\n",
       "        vertical-align: middle;\n",
       "    }\n",
       "\n",
       "    .dataframe tbody tr th {\n",
       "        vertical-align: top;\n",
       "    }\n",
       "\n",
       "    .dataframe thead th {\n",
       "        text-align: right;\n",
       "    }\n",
       "</style>\n",
       "<table border=\"1\" class=\"dataframe\">\n",
       "  <thead>\n",
       "    <tr style=\"text-align: right;\">\n",
       "      <th></th>\n",
       "      <th>timestamp</th>\n",
       "      <th>latency</th>\n",
       "      <th>status</th>\n",
       "      <th>r_bytes</th>\n",
       "      <th>s_bytes</th>\n",
       "      <th>request</th>\n",
       "      <th>r_url</th>\n",
       "      <th>code</th>\n",
       "    </tr>\n",
       "  </thead>\n",
       "  <tbody>\n",
       "    <tr>\n",
       "      <th>0</th>\n",
       "      <td>2018-12-11T23:50:10.814742Z</td>\n",
       "      <td>0.014</td>\n",
       "      <td>200</td>\n",
       "      <td>363</td>\n",
       "      <td>752</td>\n",
       "      <td>POST https://powercloud.enpower.de:443/service:api/get-product HTTP/1.1</td>\n",
       "      <td>-</td>\n",
       "      <td>NaN</td>\n",
       "    </tr>\n",
       "    <tr>\n",
       "      <th>1</th>\n",
       "      <td>2018-12-11T23:50:27.900449Z</td>\n",
       "      <td>0.108</td>\n",
       "      <td>200</td>\n",
       "      <td>396</td>\n",
       "      <td>566</td>\n",
       "      <td>GET https://powercloud.enpower.de:443/rest:client/a88afc059eba6bf3dfaa73b714c6e113/getBICFromIBA...</td>\n",
       "      <td>-</td>\n",
       "      <td>NaN</td>\n",
       "    </tr>\n",
       "    <tr>\n",
       "      <th>2</th>\n",
       "      <td>2018-12-11T23:50:27.900581Z</td>\n",
       "      <td>0.108</td>\n",
       "      <td>200</td>\n",
       "      <td>401</td>\n",
       "      <td>594</td>\n",
       "      <td>GET https://powercloud.enpower.de:443/rest:client/a88afc059eba6bf3dfaa73b714c6e113/getBankNameFr...</td>\n",
       "      <td>-</td>\n",
       "      <td>NaN</td>\n",
       "    </tr>\n",
       "    <tr>\n",
       "      <th>3</th>\n",
       "      <td>2018-12-11T23:50:29.538233Z</td>\n",
       "      <td>0.547</td>\n",
       "      <td>200</td>\n",
       "      <td>4522</td>\n",
       "      <td>504</td>\n",
       "      <td>POST https://powercloud.enpower.de:443/rest:client/a88afc059eba6bf3dfaa73b714c6e113/createOrder ...</td>\n",
       "      <td>-</td>\n",
       "      <td>NaN</td>\n",
       "    </tr>\n",
       "    <tr>\n",
       "      <th>4</th>\n",
       "      <td>2018-12-11T23:50:32.032335Z</td>\n",
       "      <td>0.100</td>\n",
       "      <td>200</td>\n",
       "      <td>505</td>\n",
       "      <td>512</td>\n",
       "      <td>GET https://powercloud.enpower.de:443/rest:customer/a88afc059eba6bf3dfaa73b714c6e113/getInvoices...</td>\n",
       "      <td>-</td>\n",
       "      <td>NaN</td>\n",
       "    </tr>\n",
       "    <tr>\n",
       "      <th>5</th>\n",
       "      <td>2018-12-11T23:50:32.649405Z</td>\n",
       "      <td>0.116</td>\n",
       "      <td>200</td>\n",
       "      <td>431</td>\n",
       "      <td>983</td>\n",
       "      <td>GET https://powercloud.enpower.de:443/rest:client/a88afc059eba6bf3dfaa73b714c6e113/getPricesForA...</td>\n",
       "      <td>-</td>\n",
       "      <td>NaN</td>\n",
       "    </tr>\n",
       "    <tr>\n",
       "      <th>6</th>\n",
       "      <td>2018-12-11T23:50:34.347581Z</td>\n",
       "      <td>0.122</td>\n",
       "      <td>200</td>\n",
       "      <td>504</td>\n",
       "      <td>1007</td>\n",
       "      <td>GET https://powercloud.enpower.de:443/rest:customer/a88afc059eba6bf3dfaa73b714c6e113/getInvoices...</td>\n",
       "      <td>-</td>\n",
       "      <td>NaN</td>\n",
       "    </tr>\n",
       "    <tr>\n",
       "      <th>7</th>\n",
       "      <td>2018-12-11T23:50:34.673519Z</td>\n",
       "      <td>0.097</td>\n",
       "      <td>200</td>\n",
       "      <td>504</td>\n",
       "      <td>949</td>\n",
       "      <td>GET https://powercloud.enpower.de:443/rest:customer/a88afc059eba6bf3dfaa73b714c6e113/getDeposits...</td>\n",
       "      <td>-</td>\n",
       "      <td>NaN</td>\n",
       "    </tr>\n",
       "    <tr>\n",
       "      <th>8</th>\n",
       "      <td>2018-12-11T23:50:35.056182Z</td>\n",
       "      <td>0.115</td>\n",
       "      <td>200</td>\n",
       "      <td>450</td>\n",
       "      <td>502</td>\n",
       "      <td>GET https://powercloud.enpower.de:443/rest:client/a88afc059eba6bf3dfaa73b714c6e113/getNextUseAtD...</td>\n",
       "      <td>-</td>\n",
       "      <td>NaN</td>\n",
       "    </tr>\n",
       "    <tr>\n",
       "      <th>9</th>\n",
       "      <td>2018-12-11T23:50:35.227155Z</td>\n",
       "      <td>0.019</td>\n",
       "      <td>200</td>\n",
       "      <td>196</td>\n",
       "      <td>7726</td>\n",
       "      <td>GET https://powercloud.enpower.de:443/login HTTP/1.1</td>\n",
       "      <td>-</td>\n",
       "      <td>NaN</td>\n",
       "    </tr>\n",
       "  </tbody>\n",
       "</table>\n",
       "</div>"
      ],
      "text/plain": [
       "                     timestamp  latency  status  r_bytes  s_bytes                                                                                              request r_url  code\n",
       "0  2018-12-11T23:50:10.814742Z    0.014     200      363      752                              POST https://powercloud.enpower.de:443/service:api/get-product HTTP/1.1     -   NaN\n",
       "1  2018-12-11T23:50:27.900449Z    0.108     200      396      566  GET https://powercloud.enpower.de:443/rest:client/a88afc059eba6bf3dfaa73b714c6e113/getBICFromIBA...     -   NaN\n",
       "2  2018-12-11T23:50:27.900581Z    0.108     200      401      594  GET https://powercloud.enpower.de:443/rest:client/a88afc059eba6bf3dfaa73b714c6e113/getBankNameFr...     -   NaN\n",
       "3  2018-12-11T23:50:29.538233Z    0.547     200     4522      504  POST https://powercloud.enpower.de:443/rest:client/a88afc059eba6bf3dfaa73b714c6e113/createOrder ...     -   NaN\n",
       "4  2018-12-11T23:50:32.032335Z    0.100     200      505      512  GET https://powercloud.enpower.de:443/rest:customer/a88afc059eba6bf3dfaa73b714c6e113/getInvoices...     -   NaN\n",
       "5  2018-12-11T23:50:32.649405Z    0.116     200      431      983  GET https://powercloud.enpower.de:443/rest:client/a88afc059eba6bf3dfaa73b714c6e113/getPricesForA...     -   NaN\n",
       "6  2018-12-11T23:50:34.347581Z    0.122     200      504     1007  GET https://powercloud.enpower.de:443/rest:customer/a88afc059eba6bf3dfaa73b714c6e113/getInvoices...     -   NaN\n",
       "7  2018-12-11T23:50:34.673519Z    0.097     200      504      949  GET https://powercloud.enpower.de:443/rest:customer/a88afc059eba6bf3dfaa73b714c6e113/getDeposits...     -   NaN\n",
       "8  2018-12-11T23:50:35.056182Z    0.115     200      450      502  GET https://powercloud.enpower.de:443/rest:client/a88afc059eba6bf3dfaa73b714c6e113/getNextUseAtD...     -   NaN\n",
       "9  2018-12-11T23:50:35.227155Z    0.019     200      196     7726                                                 GET https://powercloud.enpower.de:443/login HTTP/1.1     -   NaN"
      ]
     },
     "execution_count": 13,
     "metadata": {},
     "output_type": "execute_result"
    }
   ],
   "source": [
    "df.head(10)"
   ]
  },
  {
   "cell_type": "code",
   "execution_count": 14,
   "id": "a8b7f907",
   "metadata": {},
   "outputs": [
    {
     "data": {
      "text/plain": [
       "10"
      ]
     },
     "execution_count": 14,
     "metadata": {},
     "output_type": "execute_result"
    }
   ],
   "source": [
    "pd.get_option(\"display.max_columns\")\n",
    "pd.get_option(\"display.max_rows\")"
   ]
  },
  {
   "cell_type": "code",
   "execution_count": 15,
   "id": "5b14913f",
   "metadata": {},
   "outputs": [
    {
     "name": "stdout",
     "output_type": "stream",
     "text": [
      "<class 'pandas.core.frame.DataFrame'>\n",
      "RangeIndex: 2375 entries, 0 to 2374\n",
      "Data columns (total 8 columns):\n",
      " #   Column     Non-Null Count  Dtype  \n",
      "---  ------     --------------  -----  \n",
      " 0   timestamp  2375 non-null   object \n",
      " 1   latency    2375 non-null   float64\n",
      " 2   status     2375 non-null   int64  \n",
      " 3   r_bytes    2375 non-null   int64  \n",
      " 4   s_bytes    2375 non-null   int64  \n",
      " 5   request    2375 non-null   object \n",
      " 6   r_url      2375 non-null   object \n",
      " 7   code       0 non-null      float64\n",
      "dtypes: float64(2), int64(3), object(3)\n",
      "memory usage: 148.6+ KB\n"
     ]
    }
   ],
   "source": [
    "df.info()"
   ]
  },
  {
   "cell_type": "code",
   "execution_count": 16,
   "id": "4ecaba19",
   "metadata": {},
   "outputs": [],
   "source": [
    "df['latency'] = df['latency'].clip(upper=255)\n",
    "df['latency'] = df['latency'].astype('float16')\n",
    "df['status'] = df['status'].astype('uint16')\n",
    "df['r_bytes'] = df['r_bytes'].astype('uint32')\n",
    "df['s_bytes'] = df['s_bytes'].astype('uint32')"
   ]
  },
  {
   "cell_type": "code",
   "execution_count": 17,
   "id": "e0c7a0d3",
   "metadata": {},
   "outputs": [],
   "source": [
    "split_fields = df['request'].str.split(' ', expand=True)\n",
    "df['method'] = split_fields[0]\n",
    "df['url'] = split_fields[1]\n",
    "df['protocol'] = split_fields[2]"
   ]
  },
  {
   "cell_type": "code",
   "execution_count": 18,
   "id": "de7ddc94",
   "metadata": {},
   "outputs": [],
   "source": [
    "df.drop('request', axis=1, inplace=True)"
   ]
  },
  {
   "cell_type": "code",
   "execution_count": 19,
   "id": "b0ce043c",
   "metadata": {},
   "outputs": [],
   "source": [
    "df['url'] = df['url'].astype(str)"
   ]
  },
  {
   "cell_type": "code",
   "execution_count": 20,
   "id": "5c295c7b",
   "metadata": {},
   "outputs": [],
   "source": [
    "df['subpath'] = df['url'].str.split('443/').str[1].str.split('/').str[:2].str.join('/')\n",
    "df = df.reindex(columns=['timestamp', 'latency', 'status', 'r_bytes', 's_bytes', 'subpath', 'method', 'url', 'protocol', 'r_url', 'code'])"
   ]
  },
  {
   "cell_type": "code",
   "execution_count": 21,
   "id": "8bf138b7",
   "metadata": {},
   "outputs": [
    {
     "data": {
      "text/html": [
       "<style type=\"text/css\">\n",
       "#T_e5ef2 th {\n",
       "  text-align: center;\n",
       "}\n",
       "#T_e5ef2_row0_col5, #T_e5ef2_row0_col7, #T_e5ef2_row1_col5, #T_e5ef2_row1_col7, #T_e5ef2_row2_col5, #T_e5ef2_row2_col7, #T_e5ef2_row3_col5, #T_e5ef2_row3_col7, #T_e5ef2_row4_col5, #T_e5ef2_row4_col7, #T_e5ef2_row5_col5, #T_e5ef2_row5_col7, #T_e5ef2_row6_col5, #T_e5ef2_row6_col7, #T_e5ef2_row7_col5, #T_e5ef2_row7_col7, #T_e5ef2_row8_col5, #T_e5ef2_row8_col7, #T_e5ef2_row9_col5, #T_e5ef2_row9_col7 {\n",
       "  text-align: left;\n",
       "}\n",
       "</style>\n",
       "<table id=\"T_e5ef2\">\n",
       "  <thead>\n",
       "    <tr>\n",
       "      <th class=\"blank level0\" >&nbsp;</th>\n",
       "      <th id=\"T_e5ef2_level0_col0\" class=\"col_heading level0 col0\" >timestamp</th>\n",
       "      <th id=\"T_e5ef2_level0_col1\" class=\"col_heading level0 col1\" >latency</th>\n",
       "      <th id=\"T_e5ef2_level0_col2\" class=\"col_heading level0 col2\" >status</th>\n",
       "      <th id=\"T_e5ef2_level0_col3\" class=\"col_heading level0 col3\" >r_bytes</th>\n",
       "      <th id=\"T_e5ef2_level0_col4\" class=\"col_heading level0 col4\" >s_bytes</th>\n",
       "      <th id=\"T_e5ef2_level0_col5\" class=\"col_heading level0 col5\" >subpath</th>\n",
       "      <th id=\"T_e5ef2_level0_col6\" class=\"col_heading level0 col6\" >method</th>\n",
       "      <th id=\"T_e5ef2_level0_col7\" class=\"col_heading level0 col7\" >url</th>\n",
       "      <th id=\"T_e5ef2_level0_col8\" class=\"col_heading level0 col8\" >protocol</th>\n",
       "      <th id=\"T_e5ef2_level0_col9\" class=\"col_heading level0 col9\" >r_url</th>\n",
       "      <th id=\"T_e5ef2_level0_col10\" class=\"col_heading level0 col10\" >code</th>\n",
       "    </tr>\n",
       "  </thead>\n",
       "  <tbody>\n",
       "    <tr>\n",
       "      <th id=\"T_e5ef2_level0_row0\" class=\"row_heading level0 row0\" >0</th>\n",
       "      <td id=\"T_e5ef2_row0_col0\" class=\"data row0 col0\" >2018-12-11T23:50:10.814742Z</td>\n",
       "      <td id=\"T_e5ef2_row0_col1\" class=\"data row0 col1\" >0.014000</td>\n",
       "      <td id=\"T_e5ef2_row0_col2\" class=\"data row0 col2\" >200</td>\n",
       "      <td id=\"T_e5ef2_row0_col3\" class=\"data row0 col3\" >363</td>\n",
       "      <td id=\"T_e5ef2_row0_col4\" class=\"data row0 col4\" >752</td>\n",
       "      <td id=\"T_e5ef2_row0_col5\" class=\"data row0 col5\" >service:api/get-product</td>\n",
       "      <td id=\"T_e5ef2_row0_col6\" class=\"data row0 col6\" >POST</td>\n",
       "      <td id=\"T_e5ef2_row0_col7\" class=\"data row0 col7\" >https://powercloud.enpower.de:443/service:api/get-product</td>\n",
       "      <td id=\"T_e5ef2_row0_col8\" class=\"data row0 col8\" >HTTP/1.1</td>\n",
       "      <td id=\"T_e5ef2_row0_col9\" class=\"data row0 col9\" >-</td>\n",
       "      <td id=\"T_e5ef2_row0_col10\" class=\"data row0 col10\" >nan</td>\n",
       "    </tr>\n",
       "    <tr>\n",
       "      <th id=\"T_e5ef2_level0_row1\" class=\"row_heading level0 row1\" >1</th>\n",
       "      <td id=\"T_e5ef2_row1_col0\" class=\"data row1 col0\" >2018-12-11T23:50:27.900449Z</td>\n",
       "      <td id=\"T_e5ef2_row1_col1\" class=\"data row1 col1\" >0.107971</td>\n",
       "      <td id=\"T_e5ef2_row1_col2\" class=\"data row1 col2\" >200</td>\n",
       "      <td id=\"T_e5ef2_row1_col3\" class=\"data row1 col3\" >396</td>\n",
       "      <td id=\"T_e5ef2_row1_col4\" class=\"data row1 col4\" >566</td>\n",
       "      <td id=\"T_e5ef2_row1_col5\" class=\"data row1 col5\" >rest:client/a88afc059eba6bf3dfaa73b714c6e113</td>\n",
       "      <td id=\"T_e5ef2_row1_col6\" class=\"data row1 col6\" >GET</td>\n",
       "      <td id=\"T_e5ef2_row1_col7\" class=\"data row1 col7\" >https://powercloud.enpower.de:443/rest:client/a88afc059eba6bf3dfaa73b714c6e113/getBICFromIBAN?iban=DE18100000000016001503</td>\n",
       "      <td id=\"T_e5ef2_row1_col8\" class=\"data row1 col8\" >HTTP/1.1</td>\n",
       "      <td id=\"T_e5ef2_row1_col9\" class=\"data row1 col9\" >-</td>\n",
       "      <td id=\"T_e5ef2_row1_col10\" class=\"data row1 col10\" >nan</td>\n",
       "    </tr>\n",
       "    <tr>\n",
       "      <th id=\"T_e5ef2_level0_row2\" class=\"row_heading level0 row2\" >2</th>\n",
       "      <td id=\"T_e5ef2_row2_col0\" class=\"data row2 col0\" >2018-12-11T23:50:27.900581Z</td>\n",
       "      <td id=\"T_e5ef2_row2_col1\" class=\"data row2 col1\" >0.107971</td>\n",
       "      <td id=\"T_e5ef2_row2_col2\" class=\"data row2 col2\" >200</td>\n",
       "      <td id=\"T_e5ef2_row2_col3\" class=\"data row2 col3\" >401</td>\n",
       "      <td id=\"T_e5ef2_row2_col4\" class=\"data row2 col4\" >594</td>\n",
       "      <td id=\"T_e5ef2_row2_col5\" class=\"data row2 col5\" >rest:client/a88afc059eba6bf3dfaa73b714c6e113</td>\n",
       "      <td id=\"T_e5ef2_row2_col6\" class=\"data row2 col6\" >GET</td>\n",
       "      <td id=\"T_e5ef2_row2_col7\" class=\"data row2 col7\" >https://powercloud.enpower.de:443/rest:client/a88afc059eba6bf3dfaa73b714c6e113/getBankNameFromIBAN?iban=DE18100000000016001503</td>\n",
       "      <td id=\"T_e5ef2_row2_col8\" class=\"data row2 col8\" >HTTP/1.1</td>\n",
       "      <td id=\"T_e5ef2_row2_col9\" class=\"data row2 col9\" >-</td>\n",
       "      <td id=\"T_e5ef2_row2_col10\" class=\"data row2 col10\" >nan</td>\n",
       "    </tr>\n",
       "    <tr>\n",
       "      <th id=\"T_e5ef2_level0_row3\" class=\"row_heading level0 row3\" >3</th>\n",
       "      <td id=\"T_e5ef2_row3_col0\" class=\"data row3 col0\" >2018-12-11T23:50:29.538233Z</td>\n",
       "      <td id=\"T_e5ef2_row3_col1\" class=\"data row3 col1\" >0.546875</td>\n",
       "      <td id=\"T_e5ef2_row3_col2\" class=\"data row3 col2\" >200</td>\n",
       "      <td id=\"T_e5ef2_row3_col3\" class=\"data row3 col3\" >4522</td>\n",
       "      <td id=\"T_e5ef2_row3_col4\" class=\"data row3 col4\" >504</td>\n",
       "      <td id=\"T_e5ef2_row3_col5\" class=\"data row3 col5\" >rest:client/a88afc059eba6bf3dfaa73b714c6e113</td>\n",
       "      <td id=\"T_e5ef2_row3_col6\" class=\"data row3 col6\" >POST</td>\n",
       "      <td id=\"T_e5ef2_row3_col7\" class=\"data row3 col7\" >https://powercloud.enpower.de:443/rest:client/a88afc059eba6bf3dfaa73b714c6e113/createOrder</td>\n",
       "      <td id=\"T_e5ef2_row3_col8\" class=\"data row3 col8\" >HTTP/1.1</td>\n",
       "      <td id=\"T_e5ef2_row3_col9\" class=\"data row3 col9\" >-</td>\n",
       "      <td id=\"T_e5ef2_row3_col10\" class=\"data row3 col10\" >nan</td>\n",
       "    </tr>\n",
       "    <tr>\n",
       "      <th id=\"T_e5ef2_level0_row4\" class=\"row_heading level0 row4\" >4</th>\n",
       "      <td id=\"T_e5ef2_row4_col0\" class=\"data row4 col0\" >2018-12-11T23:50:32.032335Z</td>\n",
       "      <td id=\"T_e5ef2_row4_col1\" class=\"data row4 col1\" >0.099976</td>\n",
       "      <td id=\"T_e5ef2_row4_col2\" class=\"data row4 col2\" >200</td>\n",
       "      <td id=\"T_e5ef2_row4_col3\" class=\"data row4 col3\" >505</td>\n",
       "      <td id=\"T_e5ef2_row4_col4\" class=\"data row4 col4\" >512</td>\n",
       "      <td id=\"T_e5ef2_row4_col5\" class=\"data row4 col5\" >rest:customer/a88afc059eba6bf3dfaa73b714c6e113</td>\n",
       "      <td id=\"T_e5ef2_row4_col6\" class=\"data row4 col6\" >GET</td>\n",
       "      <td id=\"T_e5ef2_row4_col7\" class=\"data row4 col7\" >https://powercloud.enpower.de:443/rest:customer/a88afc059eba6bf3dfaa73b714c6e113/getInvoicesByContractId?contractId=70100272566&limit=9999&offset=0</td>\n",
       "      <td id=\"T_e5ef2_row4_col8\" class=\"data row4 col8\" >HTTP/1.1</td>\n",
       "      <td id=\"T_e5ef2_row4_col9\" class=\"data row4 col9\" >-</td>\n",
       "      <td id=\"T_e5ef2_row4_col10\" class=\"data row4 col10\" >nan</td>\n",
       "    </tr>\n",
       "    <tr>\n",
       "      <th id=\"T_e5ef2_level0_row5\" class=\"row_heading level0 row5\" >5</th>\n",
       "      <td id=\"T_e5ef2_row5_col0\" class=\"data row5 col0\" >2018-12-11T23:50:32.649405Z</td>\n",
       "      <td id=\"T_e5ef2_row5_col1\" class=\"data row5 col1\" >0.116028</td>\n",
       "      <td id=\"T_e5ef2_row5_col2\" class=\"data row5 col2\" >200</td>\n",
       "      <td id=\"T_e5ef2_row5_col3\" class=\"data row5 col3\" >431</td>\n",
       "      <td id=\"T_e5ef2_row5_col4\" class=\"data row5 col4\" >983</td>\n",
       "      <td id=\"T_e5ef2_row5_col5\" class=\"data row5 col5\" >rest:client/a88afc059eba6bf3dfaa73b714c6e113</td>\n",
       "      <td id=\"T_e5ef2_row5_col6\" class=\"data row5 col6\" >GET</td>\n",
       "      <td id=\"T_e5ef2_row5_col7\" class=\"data row5 col7\" >https://powercloud.enpower.de:443/rest:client/a88afc059eba6bf3dfaa73b714c6e113/getPricesForAddOnProductByCode?productCode=PHILIPS_TV_43_NEU&limit=9999&offset=0</td>\n",
       "      <td id=\"T_e5ef2_row5_col8\" class=\"data row5 col8\" >HTTP/1.1</td>\n",
       "      <td id=\"T_e5ef2_row5_col9\" class=\"data row5 col9\" >-</td>\n",
       "      <td id=\"T_e5ef2_row5_col10\" class=\"data row5 col10\" >nan</td>\n",
       "    </tr>\n",
       "    <tr>\n",
       "      <th id=\"T_e5ef2_level0_row6\" class=\"row_heading level0 row6\" >6</th>\n",
       "      <td id=\"T_e5ef2_row6_col0\" class=\"data row6 col0\" >2018-12-11T23:50:34.347581Z</td>\n",
       "      <td id=\"T_e5ef2_row6_col1\" class=\"data row6 col1\" >0.122009</td>\n",
       "      <td id=\"T_e5ef2_row6_col2\" class=\"data row6 col2\" >200</td>\n",
       "      <td id=\"T_e5ef2_row6_col3\" class=\"data row6 col3\" >504</td>\n",
       "      <td id=\"T_e5ef2_row6_col4\" class=\"data row6 col4\" >1007</td>\n",
       "      <td id=\"T_e5ef2_row6_col5\" class=\"data row6 col5\" >rest:customer/a88afc059eba6bf3dfaa73b714c6e113</td>\n",
       "      <td id=\"T_e5ef2_row6_col6\" class=\"data row6 col6\" >GET</td>\n",
       "      <td id=\"T_e5ef2_row6_col7\" class=\"data row6 col7\" >https://powercloud.enpower.de:443/rest:customer/a88afc059eba6bf3dfaa73b714c6e113/getInvoicesByContractId?contractId=1811343486&limit=9999&offset=0</td>\n",
       "      <td id=\"T_e5ef2_row6_col8\" class=\"data row6 col8\" >HTTP/1.1</td>\n",
       "      <td id=\"T_e5ef2_row6_col9\" class=\"data row6 col9\" >-</td>\n",
       "      <td id=\"T_e5ef2_row6_col10\" class=\"data row6 col10\" >nan</td>\n",
       "    </tr>\n",
       "    <tr>\n",
       "      <th id=\"T_e5ef2_level0_row7\" class=\"row_heading level0 row7\" >7</th>\n",
       "      <td id=\"T_e5ef2_row7_col0\" class=\"data row7 col0\" >2018-12-11T23:50:34.673519Z</td>\n",
       "      <td id=\"T_e5ef2_row7_col1\" class=\"data row7 col1\" >0.096985</td>\n",
       "      <td id=\"T_e5ef2_row7_col2\" class=\"data row7 col2\" >200</td>\n",
       "      <td id=\"T_e5ef2_row7_col3\" class=\"data row7 col3\" >504</td>\n",
       "      <td id=\"T_e5ef2_row7_col4\" class=\"data row7 col4\" >949</td>\n",
       "      <td id=\"T_e5ef2_row7_col5\" class=\"data row7 col5\" >rest:customer/a88afc059eba6bf3dfaa73b714c6e113</td>\n",
       "      <td id=\"T_e5ef2_row7_col6\" class=\"data row7 col6\" >GET</td>\n",
       "      <td id=\"T_e5ef2_row7_col7\" class=\"data row7 col7\" >https://powercloud.enpower.de:443/rest:customer/a88afc059eba6bf3dfaa73b714c6e113/getDepositsByContractId?contractId=1811343486&limit=9999&offset=0</td>\n",
       "      <td id=\"T_e5ef2_row7_col8\" class=\"data row7 col8\" >HTTP/1.1</td>\n",
       "      <td id=\"T_e5ef2_row7_col9\" class=\"data row7 col9\" >-</td>\n",
       "      <td id=\"T_e5ef2_row7_col10\" class=\"data row7 col10\" >nan</td>\n",
       "    </tr>\n",
       "    <tr>\n",
       "      <th id=\"T_e5ef2_level0_row8\" class=\"row_heading level0 row8\" >8</th>\n",
       "      <td id=\"T_e5ef2_row8_col0\" class=\"data row8 col0\" >2018-12-11T23:50:35.056182Z</td>\n",
       "      <td id=\"T_e5ef2_row8_col1\" class=\"data row8 col1\" >0.114990</td>\n",
       "      <td id=\"T_e5ef2_row8_col2\" class=\"data row8 col2\" >200</td>\n",
       "      <td id=\"T_e5ef2_row8_col3\" class=\"data row8 col3\" >450</td>\n",
       "      <td id=\"T_e5ef2_row8_col4\" class=\"data row8 col4\" >502</td>\n",
       "      <td id=\"T_e5ef2_row8_col5\" class=\"data row8 col5\" >rest:client/a88afc059eba6bf3dfaa73b714c6e113</td>\n",
       "      <td id=\"T_e5ef2_row8_col6\" class=\"data row8 col6\" >GET</td>\n",
       "      <td id=\"T_e5ef2_row8_col7\" class=\"data row8 col7\" >https://powercloud.enpower.de:443/rest:client/a88afc059eba6bf3dfaa73b714c6e113/getNextUseAtDepositByContractId?contractId=1811343486</td>\n",
       "      <td id=\"T_e5ef2_row8_col8\" class=\"data row8 col8\" >HTTP/1.1</td>\n",
       "      <td id=\"T_e5ef2_row8_col9\" class=\"data row8 col9\" >-</td>\n",
       "      <td id=\"T_e5ef2_row8_col10\" class=\"data row8 col10\" >nan</td>\n",
       "    </tr>\n",
       "    <tr>\n",
       "      <th id=\"T_e5ef2_level0_row9\" class=\"row_heading level0 row9\" >9</th>\n",
       "      <td id=\"T_e5ef2_row9_col0\" class=\"data row9 col0\" >2018-12-11T23:50:35.227155Z</td>\n",
       "      <td id=\"T_e5ef2_row9_col1\" class=\"data row9 col1\" >0.018997</td>\n",
       "      <td id=\"T_e5ef2_row9_col2\" class=\"data row9 col2\" >200</td>\n",
       "      <td id=\"T_e5ef2_row9_col3\" class=\"data row9 col3\" >196</td>\n",
       "      <td id=\"T_e5ef2_row9_col4\" class=\"data row9 col4\" >7726</td>\n",
       "      <td id=\"T_e5ef2_row9_col5\" class=\"data row9 col5\" >login</td>\n",
       "      <td id=\"T_e5ef2_row9_col6\" class=\"data row9 col6\" >GET</td>\n",
       "      <td id=\"T_e5ef2_row9_col7\" class=\"data row9 col7\" >https://powercloud.enpower.de:443/login</td>\n",
       "      <td id=\"T_e5ef2_row9_col8\" class=\"data row9 col8\" >HTTP/1.1</td>\n",
       "      <td id=\"T_e5ef2_row9_col9\" class=\"data row9 col9\" >-</td>\n",
       "      <td id=\"T_e5ef2_row9_col10\" class=\"data row9 col10\" >nan</td>\n",
       "    </tr>\n",
       "  </tbody>\n",
       "</table>\n"
      ],
      "text/plain": [
       "<pandas.io.formats.style.Styler at 0x7fbfff00d7f0>"
      ]
     },
     "execution_count": 21,
     "metadata": {},
     "output_type": "execute_result"
    }
   ],
   "source": [
    "header_style = [\n",
    "    {'selector': 'th', 'props': [('text-align', 'center')]}\n",
    "]\n",
    "styled_df = df.head(10).style.set_properties(subset=['url', 'subpath'], **{'text-align': 'left'})\n",
    "styled_df = styled_df.set_table_styles(header_style)\n",
    "styled_df\n"
   ]
  },
  {
   "cell_type": "code",
   "execution_count": 22,
   "id": "7d5df5b8",
   "metadata": {},
   "outputs": [
    {
     "name": "stdout",
     "output_type": "stream",
     "text": [
      "<class 'pandas.core.frame.DataFrame'>\n",
      "RangeIndex: 2375 entries, 0 to 2374\n",
      "Data columns (total 11 columns):\n",
      " #   Column     Non-Null Count  Dtype  \n",
      "---  ------     --------------  -----  \n",
      " 0   timestamp  2375 non-null   object \n",
      " 1   latency    2375 non-null   float16\n",
      " 2   status     2375 non-null   uint16 \n",
      " 3   r_bytes    2375 non-null   uint32 \n",
      " 4   s_bytes    2375 non-null   uint32 \n",
      " 5   subpath    2375 non-null   object \n",
      " 6   method     2375 non-null   object \n",
      " 7   url        2375 non-null   object \n",
      " 8   protocol   2375 non-null   object \n",
      " 9   r_url      2375 non-null   object \n",
      " 10  code       0 non-null      float64\n",
      "dtypes: float16(1), float64(1), object(6), uint16(1), uint32(2)\n",
      "memory usage: 157.8+ KB\n"
     ]
    }
   ],
   "source": [
    "df.info()"
   ]
  },
  {
   "cell_type": "code",
   "execution_count": 23,
   "id": "aba4faaa",
   "metadata": {},
   "outputs": [
    {
     "name": "stdout",
     "output_type": "stream",
     "text": [
      "Max r_bytes: 56280\n",
      "Max s_bytes: 94821\n"
     ]
    }
   ],
   "source": [
    "max_r_bytes = df['r_bytes'].max()\n",
    "max_s_bytes = df['s_bytes'].max()\n",
    "\n",
    "print(\"Max r_bytes:\", max_r_bytes)\n",
    "print(\"Max s_bytes:\", max_s_bytes)"
   ]
  },
  {
   "cell_type": "code",
   "execution_count": 24,
   "id": "5e7e8072",
   "metadata": {},
   "outputs": [
    {
     "name": "stdout",
     "output_type": "stream",
     "text": [
      "count    2375.000000\n",
      "mean        0.142334\n",
      "std         0.142578\n",
      "min         0.006001\n",
      "25%         0.109009\n",
      "50%         0.116028\n",
      "75%         0.128052\n",
      "max         2.888672\n",
      "Name: latency, dtype: float64\n"
     ]
    }
   ],
   "source": [
    "latency_stats = df['latency'].describe()\n",
    "print(latency_stats)"
   ]
  },
  {
   "cell_type": "code",
   "execution_count": 25,
   "id": "f3ad8191",
   "metadata": {},
   "outputs": [
    {
     "name": "stdout",
     "output_type": "stream",
     "text": [
      "0.23430175781249973\n"
     ]
    }
   ],
   "source": [
    "latency_median = df['latency'].median()\n",
    "latency_95th_percentile = df['latency'].quantile(0.95)\n",
    "print(latency_95th_percentile)"
   ]
  },
  {
   "cell_type": "code",
   "execution_count": 26,
   "id": "d2e9f927",
   "metadata": {},
   "outputs": [
    {
     "name": "stdout",
     "output_type": "stream",
     "text": [
      "subpath\n",
      "rest:client/72e48c67dcb095f52fccfaa22189ca3c      0.234543\n",
      "rest:customer/a88afc059eba6bf3dfaa73b714c6e113    0.145498\n",
      "rest:client/06b86119ad12044bb7fd680cd568a8a6      0.143411\n",
      "rest:client/a88afc059eba6bf3dfaa73b714c6e113      0.137258\n",
      "rest:client/2cee36e616b3eac6976c4a30390ba2a3      0.136464\n",
      "Name: latency, dtype: float32\n"
     ]
    }
   ],
   "source": [
    "subpath_avg_latency = df.groupby('subpath')['latency'].mean()\n",
    "sorted_subpaths = subpath_avg_latency.sort_values(ascending=False)\n",
    "top_5_subpaths = sorted_subpaths.head(5)\n",
    "print(top_5_subpaths)"
   ]
  },
  {
   "cell_type": "code",
   "execution_count": 28,
   "id": "5eaabc4c",
   "metadata": {},
   "outputs": [
    {
     "name": "stdout",
     "output_type": "stream",
     "text": [
      "                        timestamp   latency  status  r_bytes  s_bytes                                         subpath method                                                                                                  url  protocol r_url  code\n",
      "2073  2018-12-11T23:53:03.517736Z  2.888672     200      558      519    rest:client/06b86119ad12044bb7fd680cd568a8a6   POST  https://powercloud.enpower.de:443/rest:client/06b86119ad12044bb7fd680cd568a8a6/linkEdiMailToArch...  HTTP/1.1     -   NaN\n",
      "2181  2018-12-11T23:53:03.504659Z  2.818359     200      552      513    rest:client/06b86119ad12044bb7fd680cd568a8a6   POST  https://powercloud.enpower.de:443/rest:client/06b86119ad12044bb7fd680cd568a8a6/linkEdiMailToArch...  HTTP/1.1     -   NaN\n",
      "2071  2018-12-11T23:53:03.455480Z  2.812500     200      558      519    rest:client/06b86119ad12044bb7fd680cd568a8a6   POST  https://powercloud.enpower.de:443/rest:client/06b86119ad12044bb7fd680cd568a8a6/linkEdiMailToArch...  HTTP/1.1     -   NaN\n",
      "1985  2018-12-11T23:53:01.874506Z  1.252930     200      505      959  rest:customer/a88afc059eba6bf3dfaa73b714c6e113    GET  https://powercloud.enpower.de:443/rest:customer/a88afc059eba6bf3dfaa73b714c6e113/getCountersByCo...  HTTP/1.1     -   NaN\n",
      "1984  2018-12-11T23:53:01.874388Z  1.250000     200      505      959  rest:customer/a88afc059eba6bf3dfaa73b714c6e113    GET  https://powercloud.enpower.de:443/rest:customer/a88afc059eba6bf3dfaa73b714c6e113/getCountersByCo...  HTTP/1.1     -   NaN\n"
     ]
    }
   ],
   "source": [
    "highest_latencies = df.nlargest(5, 'latency')\n",
    "print(highest_latencies)\n"
   ]
  },
  {
   "cell_type": "code",
   "execution_count": null,
   "id": "c5a021fc",
   "metadata": {},
   "outputs": [],
   "source": []
  }
 ],
 "metadata": {
  "kernelspec": {
   "display_name": "Python 3 (ipykernel)",
   "language": "python",
   "name": "python3"
  },
  "language_info": {
   "codemirror_mode": {
    "name": "ipython",
    "version": 3
   },
   "file_extension": ".py",
   "mimetype": "text/x-python",
   "name": "python",
   "nbconvert_exporter": "python",
   "pygments_lexer": "ipython3",
   "version": "3.9.16"
  }
 },
 "nbformat": 4,
 "nbformat_minor": 5
}
