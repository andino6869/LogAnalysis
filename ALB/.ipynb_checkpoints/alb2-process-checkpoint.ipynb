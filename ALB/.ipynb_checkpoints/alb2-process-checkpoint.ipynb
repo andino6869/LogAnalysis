{
 "cells": [
  {
   "cell_type": "code",
   "execution_count": 102,
   "id": "10482fd4",
   "metadata": {},
   "outputs": [],
   "source": [
    "import pandas as pd\n",
    "import gzip \n",
    "import IPython.display\n",
    "#from tabulate import tabulate"
   ]
  },
  {
   "cell_type": "code",
   "execution_count": 103,
   "id": "2de15cd5",
   "metadata": {},
   "outputs": [
    {
     "data": {
      "text/html": [
       "<style>.container {width: 100%} !i"
      ],
      "text/plain": [
       "<IPython.core.display.HTML object>"
      ]
     },
     "metadata": {},
     "output_type": "display_data"
    }
   ],
   "source": [
    "from IPython.display import display, HTML\n",
    "display(HTML('<style>.container {width: 100%} !i'))"
   ]
  },
  {
   "cell_type": "code",
   "execution_count": 104,
   "id": "be576ffb",
   "metadata": {},
   "outputs": [],
   "source": [
    "# Define the column headers for the ALB access logs DataFrame\n",
    "columns = [\n",
    "    \"date\",                                    # 2023-03-04\n",
    "    \"time\",                                    # 00:40:00               \n",
    "    \"status\",                                  # string(int16)         200\n",
    "    \"latency\",                                 # float32 (?)         0.110\n",
    "    \"r_bytes\",                                 # int16                 702\n",
    "    \"method\",                                  # POST\n",
    "    \"uri\"                                   # string (?)         service/Electricity HTTP/1.1\n",
    "]"
   ]
  },
  {
   "cell_type": "code",
   "execution_count": 105,
   "id": "4bb14c29",
   "metadata": {},
   "outputs": [],
   "source": [
    "FILE = '/BigData/ELB/output/2019-07-11-output.csv.gz'\n",
    "df = pd.read_csv(FILE, \n",
    "                 compression='gzip', header=None, names=columns, sep=',', quotechar='\"', skiprows=1, engine='python', encoding= \"UTF-8\",\n",
    "                 dtype={\n",
    "                    'date': 'string',\n",
    "                    'time': 'string',\n",
    "                    'status': 'int16',\n",
    "                    'latency': 'float32',\n",
    "                    'r_bytes': 'int32',\n",
    "                    'method': 'string',\n",
    "                    'uri': 'string',\n",
    "                 })"
   ]
  },
  {
   "cell_type": "code",
   "execution_count": 106,
   "id": "afc7356b",
   "metadata": {},
   "outputs": [],
   "source": [
    "pd.set_option('display.width', 1000)\n",
    "pd.set_option('max_colwidth', 100)"
   ]
  },
  {
   "cell_type": "code",
   "execution_count": 107,
   "id": "091c3e7b",
   "metadata": {},
   "outputs": [],
   "source": [
    "pd.set_option('display.max_rows', 10)"
   ]
  },
  {
   "cell_type": "code",
   "execution_count": 108,
   "id": "7a4b89e3",
   "metadata": {
    "scrolled": true
   },
   "outputs": [
    {
     "data": {
      "text/html": [
       "<div>\n",
       "<style scoped>\n",
       "    .dataframe tbody tr th:only-of-type {\n",
       "        vertical-align: middle;\n",
       "    }\n",
       "\n",
       "    .dataframe tbody tr th {\n",
       "        vertical-align: top;\n",
       "    }\n",
       "\n",
       "    .dataframe thead th {\n",
       "        text-align: right;\n",
       "    }\n",
       "</style>\n",
       "<table border=\"1\" class=\"dataframe\">\n",
       "  <thead>\n",
       "    <tr style=\"text-align: right;\">\n",
       "      <th></th>\n",
       "      <th>date</th>\n",
       "      <th>time</th>\n",
       "      <th>status</th>\n",
       "      <th>latency</th>\n",
       "      <th>r_bytes</th>\n",
       "      <th>method</th>\n",
       "      <th>uri</th>\n",
       "    </tr>\n",
       "  </thead>\n",
       "  <tbody>\n",
       "    <tr>\n",
       "      <th>0</th>\n",
       "      <td>2019-07-11</td>\n",
       "      <td>19:50:03</td>\n",
       "      <td>200</td>\n",
       "      <td>0.022</td>\n",
       "      <td>362</td>\n",
       "      <td>POST</td>\n",
       "      <td>service:api/get-product</td>\n",
       "    </tr>\n",
       "    <tr>\n",
       "      <th>1</th>\n",
       "      <td>2019-07-11</td>\n",
       "      <td>19:50:03</td>\n",
       "      <td>200</td>\n",
       "      <td>0.022</td>\n",
       "      <td>363</td>\n",
       "      <td>POST</td>\n",
       "      <td>service:api/get-product</td>\n",
       "    </tr>\n",
       "    <tr>\n",
       "      <th>2</th>\n",
       "      <td>2019-07-11</td>\n",
       "      <td>19:52:47</td>\n",
       "      <td>200</td>\n",
       "      <td>0.022</td>\n",
       "      <td>362</td>\n",
       "      <td>POST</td>\n",
       "      <td>service:api/get-product</td>\n",
       "    </tr>\n",
       "    <tr>\n",
       "      <th>3</th>\n",
       "      <td>2019-07-11</td>\n",
       "      <td>19:52:48</td>\n",
       "      <td>200</td>\n",
       "      <td>0.039</td>\n",
       "      <td>363</td>\n",
       "      <td>POST</td>\n",
       "      <td>service:api/get-product</td>\n",
       "    </tr>\n",
       "    <tr>\n",
       "      <th>4</th>\n",
       "      <td>2019-07-11</td>\n",
       "      <td>19:54:55</td>\n",
       "      <td>200</td>\n",
       "      <td>0.035</td>\n",
       "      <td>363</td>\n",
       "      <td>POST</td>\n",
       "      <td>service:api/get-product</td>\n",
       "    </tr>\n",
       "    <tr>\n",
       "      <th>5</th>\n",
       "      <td>2019-07-11</td>\n",
       "      <td>19:54:55</td>\n",
       "      <td>200</td>\n",
       "      <td>0.021</td>\n",
       "      <td>364</td>\n",
       "      <td>POST</td>\n",
       "      <td>service:api/get-product</td>\n",
       "    </tr>\n",
       "    <tr>\n",
       "      <th>6</th>\n",
       "      <td>2019-07-11</td>\n",
       "      <td>14:10:02</td>\n",
       "      <td>200</td>\n",
       "      <td>0.026</td>\n",
       "      <td>362</td>\n",
       "      <td>POST</td>\n",
       "      <td>service:api/get-product</td>\n",
       "    </tr>\n",
       "    <tr>\n",
       "      <th>7</th>\n",
       "      <td>2019-07-11</td>\n",
       "      <td>14:10:03</td>\n",
       "      <td>200</td>\n",
       "      <td>0.027</td>\n",
       "      <td>363</td>\n",
       "      <td>POST</td>\n",
       "      <td>service:api/get-product</td>\n",
       "    </tr>\n",
       "    <tr>\n",
       "      <th>8</th>\n",
       "      <td>2019-07-11</td>\n",
       "      <td>14:13:41</td>\n",
       "      <td>200</td>\n",
       "      <td>0.003</td>\n",
       "      <td>467</td>\n",
       "      <td>GET</td>\n",
       "      <td>ping.php</td>\n",
       "    </tr>\n",
       "    <tr>\n",
       "      <th>9</th>\n",
       "      <td>2019-07-11</td>\n",
       "      <td>14:14:49</td>\n",
       "      <td>200</td>\n",
       "      <td>0.048</td>\n",
       "      <td>363</td>\n",
       "      <td>POST</td>\n",
       "      <td>service:api/get-product</td>\n",
       "    </tr>\n",
       "  </tbody>\n",
       "</table>\n",
       "</div>"
      ],
      "text/plain": [
       "         date      time  status  latency  r_bytes method                      uri\n",
       "0  2019-07-11  19:50:03     200    0.022      362   POST  service:api/get-product\n",
       "1  2019-07-11  19:50:03     200    0.022      363   POST  service:api/get-product\n",
       "2  2019-07-11  19:52:47     200    0.022      362   POST  service:api/get-product\n",
       "3  2019-07-11  19:52:48     200    0.039      363   POST  service:api/get-product\n",
       "4  2019-07-11  19:54:55     200    0.035      363   POST  service:api/get-product\n",
       "5  2019-07-11  19:54:55     200    0.021      364   POST  service:api/get-product\n",
       "6  2019-07-11  14:10:02     200    0.026      362   POST  service:api/get-product\n",
       "7  2019-07-11  14:10:03     200    0.027      363   POST  service:api/get-product\n",
       "8  2019-07-11  14:13:41     200    0.003      467    GET                 ping.php\n",
       "9  2019-07-11  14:14:49     200    0.048      363   POST  service:api/get-product"
      ]
     },
     "execution_count": 108,
     "metadata": {},
     "output_type": "execute_result"
    }
   ],
   "source": [
    "df.head(10)"
   ]
  },
  {
   "cell_type": "code",
   "execution_count": 109,
   "id": "a8b7f907",
   "metadata": {},
   "outputs": [
    {
     "data": {
      "text/plain": [
       "10"
      ]
     },
     "execution_count": 109,
     "metadata": {},
     "output_type": "execute_result"
    }
   ],
   "source": [
    "pd.get_option(\"display.max_columns\")\n",
    "pd.get_option(\"display.max_rows\")"
   ]
  },
  {
   "cell_type": "code",
   "execution_count": 110,
   "id": "5c295c7b",
   "metadata": {},
   "outputs": [
    {
     "name": "stdout",
     "output_type": "stream",
     "text": [
      "0        service:api/get-product\n",
      "1        service:api/get-product\n",
      "2        service:api/get-product\n",
      "3        service:api/get-product\n",
      "4        service:api/get-product\n",
      "                  ...           \n",
      "8525                    ping.php\n",
      "8526    service:api/get-campaign\n",
      "8527    service:api/get-campaign\n",
      "8528    service:api/get-campaign\n",
      "8529    service:api/get-campaign\n",
      "Name: uri, Length: 8530, dtype: object\n"
     ]
    }
   ],
   "source": [
    "# df['subpath'] = df['url'].str.split('443/').str[1].str.split('/').str[:2].str.join('/')\n",
    "suburi = df['uri'].str.split('/').str[:2].str.join('/')\n",
    "print(suburi)\n",
    "#df = df.reindex(columns=['timestamp', 'latency', 'status', 'r_bytes', 's_bytes', 'subpath', 'method', 'url', 'protocol', 'r_url', 'code'])"
   ]
  },
  {
   "cell_type": "code",
   "execution_count": 111,
   "id": "8bf138b7",
   "metadata": {},
   "outputs": [
    {
     "data": {
      "text/plain": [
       "\"\\nheader_style = [\\n    {'selector': 'th', 'props': [('text-align', 'center')]}\\n]\\nstyled_df = df.head(10).style.set_properties(subset=['url', 'subpath'], **{'text-align': 'left'})\\nstyled_df = styled_df.set_table_styles(header_style)\\nstyled_df\\n\""
      ]
     },
     "execution_count": 111,
     "metadata": {},
     "output_type": "execute_result"
    }
   ],
   "source": [
    "'''\n",
    "header_style = [\n",
    "    {'selector': 'th', 'props': [('text-align', 'center')]}\n",
    "]\n",
    "styled_df = df.head(10).style.set_properties(subset=['url', 'subpath'], **{'text-align': 'left'})\n",
    "styled_df = styled_df.set_table_styles(header_style)\n",
    "styled_df\n",
    "'''\n"
   ]
  },
  {
   "cell_type": "code",
   "execution_count": 112,
   "id": "aba4faaa",
   "metadata": {},
   "outputs": [
    {
     "name": "stdout",
     "output_type": "stream",
     "text": [
      "Max r_bytes: 203886\n"
     ]
    }
   ],
   "source": [
    "max_r_bytes = df['r_bytes'].max()\n",
    "print(\"Max r_bytes:\", max_r_bytes)"
   ]
  },
  {
   "cell_type": "code",
   "execution_count": 113,
   "id": "5e7e8072",
   "metadata": {},
   "outputs": [
    {
     "name": "stdout",
     "output_type": "stream",
     "text": [
      "count    8530.000000\n",
      "mean        0.044782\n",
      "std         0.965410\n",
      "min        -1.000000\n",
      "25%         0.021000\n",
      "50%         0.024000\n",
      "75%         0.031000\n",
      "max        66.105003\n",
      "Name: latency, dtype: float64\n"
     ]
    }
   ],
   "source": [
    "latency_stats = df['latency'].describe()\n",
    "print(latency_stats)"
   ]
  },
  {
   "cell_type": "code",
   "execution_count": 114,
   "id": "f3ad8191",
   "metadata": {},
   "outputs": [
    {
     "name": "stdout",
     "output_type": "stream",
     "text": [
      "0.07055000141262935\n"
     ]
    }
   ],
   "source": [
    "latency_median = df['latency'].median()\n",
    "latency_95th_percentile = df['latency'].quantile(0.95)\n",
    "print(latency_95th_percentile)"
   ]
  },
  {
   "cell_type": "code",
   "execution_count": 115,
   "id": "d2e9f927",
   "metadata": {},
   "outputs": [
    {
     "name": "stdout",
     "output_type": "stream",
     "text": [
      "uri\n",
      "dashboard/database                                                                                     33.263000\n",
      "dashboard                                                                                               5.665462\n",
      "js/min/build_information.js?1562790708                                                                  1.447917\n",
      "compiled/687522c066f4d60b03a2a84dbf3c6710.js?1562790708                                                 1.370100\n",
      "login?code=AQABAAIAAAAP0wLlqdLVToOpA4kwzSnxIc3zHf-mK8_j0_CCjmtmlis6IwHzLypEXxy3988LHDJuztAg3sSxF...     1.295000\n",
      "Name: latency, dtype: float32\n"
     ]
    }
   ],
   "source": [
    "subpath_avg_latency = df.groupby('uri')['latency'].mean()\n",
    "sorted_subpaths = subpath_avg_latency.sort_values(ascending=False)\n",
    "top_5_subpaths = sorted_subpaths.head(5)\n",
    "print(top_5_subpaths)"
   ]
  },
  {
   "cell_type": "code",
   "execution_count": 116,
   "id": "5eaabc4c",
   "metadata": {},
   "outputs": [
    {
     "name": "stdout",
     "output_type": "stream",
     "text": [
      "            date      time  status    latency  r_bytes method                 uri\n",
      "8251  2019-07-11  07:49:04     500  66.105003       96    GET  dashboard/database\n",
      "7969  2019-07-11  06:57:04     200  50.528999       38    GET           dashboard\n",
      "1815  2019-07-11  07:44:14     200   9.029000       88    GET           dashboard\n",
      "8221  2019-07-11  07:45:15     200   7.054000       95    GET   settings:registry\n",
      "8062  2019-07-11  05:28:16     200   5.101000       84    GET           dashboard\n"
     ]
    }
   ],
   "source": [
    "highest_latencies = df.nlargest(5, 'latency')\n",
    "print(highest_latencies)\n"
   ]
  },
  {
   "cell_type": "code",
   "execution_count": null,
   "id": "c5a021fc",
   "metadata": {},
   "outputs": [],
   "source": []
  },
  {
   "cell_type": "code",
   "execution_count": null,
   "id": "31cdefd5",
   "metadata": {},
   "outputs": [],
   "source": []
  }
 ],
 "metadata": {
  "kernelspec": {
   "display_name": "Python 3 (ipykernel)",
   "language": "python",
   "name": "python3"
  },
  "language_info": {
   "codemirror_mode": {
    "name": "ipython",
    "version": 3
   },
   "file_extension": ".py",
   "mimetype": "text/x-python",
   "name": "python",
   "nbconvert_exporter": "python",
   "pygments_lexer": "ipython3",
   "version": "3.9.16"
  }
 },
 "nbformat": 4,
 "nbformat_minor": 5
}
